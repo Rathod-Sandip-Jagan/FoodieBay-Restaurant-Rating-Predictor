{
 "cells": [
  {
   "cell_type": "markdown",
   "metadata": {
    "id": "1FE3zRyOAMYd"
   },
   "source": [
    "🔧 1. Imports and Setup"
   ]
  },
  {
   "cell_type": "code",
   "execution_count": 9,
   "metadata": {
    "id": "G8HcReKXANIZ"
   },
   "outputs": [],
   "source": [
    "import pandas as pd\n",
    "import numpy as np\n",
    "import matplotlib.pyplot as plt\n",
    "import seaborn as sns\n",
    "\n",
    "from sklearn.model_selection import train_test_split, GridSearchCV\n",
    "from sklearn.preprocessing import OneHotEncoder, LabelEncoder, StandardScaler\n",
    "from sklearn.compose import ColumnTransformer\n",
    "from sklearn.pipeline import Pipeline\n",
    "from sklearn.impute import SimpleImputer\n",
    "\n",
    "from sklearn.linear_model import LinearRegression\n",
    "from sklearn.ensemble import RandomForestRegressor\n",
    "from sklearn.metrics import mean_squared_error, r2_score\n",
    "import warnings\n",
    "warnings.filterwarnings('ignore')\n"
   ]
  },
  {
   "cell_type": "markdown",
   "metadata": {
    "id": "ZIdnFgZXAUSY"
   },
   "source": [
    "📥 2. Load the Data"
   ]
  },
  {
   "cell_type": "code",
   "execution_count": 10,
   "metadata": {
    "id": "cAOhl22wAYmi"
   },
   "outputs": [
    {
     "data": {
      "text/html": [
       "<div>\n",
       "<style scoped>\n",
       "    .dataframe tbody tr th:only-of-type {\n",
       "        vertical-align: middle;\n",
       "    }\n",
       "\n",
       "    .dataframe tbody tr th {\n",
       "        vertical-align: top;\n",
       "    }\n",
       "\n",
       "    .dataframe thead th {\n",
       "        text-align: right;\n",
       "    }\n",
       "</style>\n",
       "<table border=\"1\" class=\"dataframe\">\n",
       "  <thead>\n",
       "    <tr style=\"text-align: right;\">\n",
       "      <th></th>\n",
       "      <th>location</th>\n",
       "      <th>rest_type</th>\n",
       "      <th>listed_in_type</th>\n",
       "      <th>listed_in_city</th>\n",
       "      <th>online_order</th>\n",
       "      <th>book_table</th>\n",
       "      <th>ave_cost_for_two</th>\n",
       "      <th>votes</th>\n",
       "      <th>ave_review_ranking</th>\n",
       "      <th>rate</th>\n",
       "      <th>...</th>\n",
       "      <th>primary_cuisine_Fast Food</th>\n",
       "      <th>primary_cuisine_Healthy Food</th>\n",
       "      <th>primary_cuisine_Italian</th>\n",
       "      <th>primary_cuisine_Kerala</th>\n",
       "      <th>primary_cuisine_North Indian</th>\n",
       "      <th>primary_cuisine_Other</th>\n",
       "      <th>primary_cuisine_Pizza</th>\n",
       "      <th>primary_cuisine_Seafood</th>\n",
       "      <th>primary_cuisine_South Indian</th>\n",
       "      <th>primary_cuisine_Street Food</th>\n",
       "    </tr>\n",
       "  </thead>\n",
       "  <tbody>\n",
       "    <tr>\n",
       "      <th>0</th>\n",
       "      <td>3</td>\n",
       "      <td>1</td>\n",
       "      <td>1</td>\n",
       "      <td>12</td>\n",
       "      <td>0</td>\n",
       "      <td>0</td>\n",
       "      <td>700.0</td>\n",
       "      <td>13</td>\n",
       "      <td>4.75</td>\n",
       "      <td>3.6</td>\n",
       "      <td>...</td>\n",
       "      <td>0</td>\n",
       "      <td>0</td>\n",
       "      <td>0</td>\n",
       "      <td>0</td>\n",
       "      <td>0</td>\n",
       "      <td>0</td>\n",
       "      <td>0</td>\n",
       "      <td>0</td>\n",
       "      <td>0</td>\n",
       "      <td>0</td>\n",
       "    </tr>\n",
       "    <tr>\n",
       "      <th>1</th>\n",
       "      <td>41</td>\n",
       "      <td>5</td>\n",
       "      <td>4</td>\n",
       "      <td>17</td>\n",
       "      <td>1</td>\n",
       "      <td>0</td>\n",
       "      <td>400.0</td>\n",
       "      <td>28</td>\n",
       "      <td>4.50</td>\n",
       "      <td>3.8</td>\n",
       "      <td>...</td>\n",
       "      <td>0</td>\n",
       "      <td>0</td>\n",
       "      <td>0</td>\n",
       "      <td>0</td>\n",
       "      <td>0</td>\n",
       "      <td>0</td>\n",
       "      <td>0</td>\n",
       "      <td>0</td>\n",
       "      <td>0</td>\n",
       "      <td>0</td>\n",
       "    </tr>\n",
       "    <tr>\n",
       "      <th>2</th>\n",
       "      <td>4</td>\n",
       "      <td>5</td>\n",
       "      <td>2</td>\n",
       "      <td>13</td>\n",
       "      <td>1</td>\n",
       "      <td>0</td>\n",
       "      <td>200.0</td>\n",
       "      <td>18</td>\n",
       "      <td>4.00</td>\n",
       "      <td>3.9</td>\n",
       "      <td>...</td>\n",
       "      <td>0</td>\n",
       "      <td>0</td>\n",
       "      <td>0</td>\n",
       "      <td>0</td>\n",
       "      <td>0</td>\n",
       "      <td>0</td>\n",
       "      <td>0</td>\n",
       "      <td>0</td>\n",
       "      <td>1</td>\n",
       "      <td>0</td>\n",
       "    </tr>\n",
       "    <tr>\n",
       "      <th>3</th>\n",
       "      <td>78</td>\n",
       "      <td>2</td>\n",
       "      <td>2</td>\n",
       "      <td>5</td>\n",
       "      <td>1</td>\n",
       "      <td>1</td>\n",
       "      <td>1200.0</td>\n",
       "      <td>550</td>\n",
       "      <td>4.80</td>\n",
       "      <td>4.3</td>\n",
       "      <td>...</td>\n",
       "      <td>0</td>\n",
       "      <td>0</td>\n",
       "      <td>0</td>\n",
       "      <td>0</td>\n",
       "      <td>0</td>\n",
       "      <td>0</td>\n",
       "      <td>0</td>\n",
       "      <td>0</td>\n",
       "      <td>0</td>\n",
       "      <td>0</td>\n",
       "    </tr>\n",
       "    <tr>\n",
       "      <th>4</th>\n",
       "      <td>60</td>\n",
       "      <td>1</td>\n",
       "      <td>4</td>\n",
       "      <td>24</td>\n",
       "      <td>1</td>\n",
       "      <td>0</td>\n",
       "      <td>250.0</td>\n",
       "      <td>67</td>\n",
       "      <td>3.00</td>\n",
       "      <td>3.7</td>\n",
       "      <td>...</td>\n",
       "      <td>0</td>\n",
       "      <td>0</td>\n",
       "      <td>0</td>\n",
       "      <td>0</td>\n",
       "      <td>0</td>\n",
       "      <td>0</td>\n",
       "      <td>0</td>\n",
       "      <td>0</td>\n",
       "      <td>0</td>\n",
       "      <td>0</td>\n",
       "    </tr>\n",
       "  </tbody>\n",
       "</table>\n",
       "<p>5 rows × 31 columns</p>\n",
       "</div>"
      ],
      "text/plain": [
       "   location  rest_type  listed_in_type  listed_in_city  online_order  \\\n",
       "0         3          1               1              12             0   \n",
       "1        41          5               4              17             1   \n",
       "2         4          5               2              13             1   \n",
       "3        78          2               2               5             1   \n",
       "4        60          1               4              24             1   \n",
       "\n",
       "   book_table  ave_cost_for_two  votes  ave_review_ranking  rate  ...  \\\n",
       "0           0             700.0     13                4.75   3.6  ...   \n",
       "1           0             400.0     28                4.50   3.8  ...   \n",
       "2           0             200.0     18                4.00   3.9  ...   \n",
       "3           1            1200.0    550                4.80   4.3  ...   \n",
       "4           0             250.0     67                3.00   3.7  ...   \n",
       "\n",
       "   primary_cuisine_Fast Food  primary_cuisine_Healthy Food  \\\n",
       "0                          0                             0   \n",
       "1                          0                             0   \n",
       "2                          0                             0   \n",
       "3                          0                             0   \n",
       "4                          0                             0   \n",
       "\n",
       "   primary_cuisine_Italian  primary_cuisine_Kerala  \\\n",
       "0                        0                       0   \n",
       "1                        0                       0   \n",
       "2                        0                       0   \n",
       "3                        0                       0   \n",
       "4                        0                       0   \n",
       "\n",
       "   primary_cuisine_North Indian  primary_cuisine_Other  primary_cuisine_Pizza  \\\n",
       "0                             0                      0                      0   \n",
       "1                             0                      0                      0   \n",
       "2                             0                      0                      0   \n",
       "3                             0                      0                      0   \n",
       "4                             0                      0                      0   \n",
       "\n",
       "   primary_cuisine_Seafood  primary_cuisine_South Indian  \\\n",
       "0                        0                             0   \n",
       "1                        0                             0   \n",
       "2                        0                             1   \n",
       "3                        0                             0   \n",
       "4                        0                             0   \n",
       "\n",
       "   primary_cuisine_Street Food  \n",
       "0                            0  \n",
       "1                            0  \n",
       "2                            0  \n",
       "3                            0  \n",
       "4                            0  \n",
       "\n",
       "[5 rows x 31 columns]"
      ]
     },
     "execution_count": 10,
     "metadata": {},
     "output_type": "execute_result"
    }
   ],
   "source": [
    "df = pd.read_csv(\"E:/FoodieBay DataSet/data/foodiebay_cleaned.csv\")  # Use your cleaned CSV or pass it from EDA\n",
    "df.head()\n"
   ]
  },
  {
   "cell_type": "markdown",
   "metadata": {
    "id": "RFo97oh_Aano"
   },
   "source": [
    "🧹 3. Preprocessing Setup\n",
    "Separate features and target:"
   ]
  },
  {
   "cell_type": "code",
   "execution_count": 11,
   "metadata": {
    "id": "Uo_i2pxtAcrE"
   },
   "outputs": [],
   "source": [
    "X = df.drop([\"rate\"], axis=1)\n",
    "y = df[\"rate\"]\n"
   ]
  },
  {
   "cell_type": "markdown",
   "metadata": {
    "id": "7iaMFexhAhv_"
   },
   "source": [
    "Identify column types:"
   ]
  },
  {
   "cell_type": "code",
   "execution_count": 12,
   "metadata": {
    "id": "YC5mqv35AvYv"
   },
   "outputs": [],
   "source": [
    "numeric_features = X.select_dtypes(include=[\"int64\", \"float64\"]).columns.tolist()\n",
    "categorical_features = X.select_dtypes(include=[\"object\", \"bool\"]).columns.tolist()\n"
   ]
  },
  {
   "cell_type": "markdown",
   "metadata": {
    "id": "fEuc4gX7AxwI"
   },
   "source": [
    "Build a preprocessor pipeline:"
   ]
  },
  {
   "cell_type": "code",
   "execution_count": 13,
   "metadata": {
    "id": "OiW4q6IsA6aK"
   },
   "outputs": [],
   "source": [
    "numeric_transformer = Pipeline(steps=[\n",
    "    (\"imputer\", SimpleImputer(strategy=\"mean\")),\n",
    "    (\"scaler\", StandardScaler())\n",
    "])\n",
    "\n",
    "categorical_transformer = Pipeline(steps=[\n",
    "    (\"imputer\", SimpleImputer(strategy=\"most_frequent\")),\n",
    "    (\"onehot\", OneHotEncoder(handle_unknown=\"ignore\"))\n",
    "])\n",
    "\n",
    "preprocessor = ColumnTransformer(transformers=[\n",
    "    (\"num\", numeric_transformer, numeric_features),\n",
    "    (\"cat\", categorical_transformer, categorical_features)\n",
    "])\n"
   ]
  },
  {
   "cell_type": "markdown",
   "metadata": {
    "id": "5Qq2743nA7Wf"
   },
   "source": [
    "🔄 4. Train/Test Split"
   ]
  },
  {
   "cell_type": "code",
   "execution_count": 14,
   "metadata": {
    "id": "K38mAEt1A9l-"
   },
   "outputs": [],
   "source": [
    "X_train, X_test, y_train, y_test = train_test_split(X, y, test_size=0.2, random_state=42)\n"
   ]
  },
  {
   "cell_type": "markdown",
   "metadata": {
    "id": "quygwt3oA_h-"
   },
   "source": [
    "🔁 5. Model Pipelines"
   ]
  },
  {
   "cell_type": "code",
   "execution_count": 15,
   "metadata": {
    "id": "UrYuARxPBDJx"
   },
   "outputs": [],
   "source": [
    "# Linear Regression Pipeline\n",
    "lr_pipeline = Pipeline(steps=[\n",
    "    (\"preprocessor\", preprocessor),\n",
    "    (\"regressor\", LinearRegression())\n",
    "])\n",
    "\n",
    "# Random Forest Pipeline\n",
    "rf_pipeline = Pipeline(steps=[\n",
    "    (\"preprocessor\", preprocessor),\n",
    "    (\"regressor\", RandomForestRegressor(random_state=42))\n",
    "])\n"
   ]
  },
  {
   "cell_type": "markdown",
   "metadata": {
    "id": "JICeEHI1BGXD"
   },
   "source": [
    "🚂 6. Model Training"
   ]
  },
  {
   "cell_type": "code",
   "execution_count": 16,
   "metadata": {
    "id": "v8QVz6jtBJZY"
   },
   "outputs": [],
   "source": [
    "# Linear Regression\n",
    "lr_pipeline.fit(X_train, y_train)\n",
    "y_pred_lr = lr_pipeline.predict(X_test)\n",
    "\n",
    "# Random Forest\n",
    "rf_pipeline.fit(X_train, y_train)\n",
    "y_pred_rf = rf_pipeline.predict(X_test)\n"
   ]
  },
  {
   "cell_type": "markdown",
   "metadata": {
    "id": "0qd8XIC_BLd1"
   },
   "source": [
    "📊 7. Model Evaluation"
   ]
  },
  {
   "cell_type": "code",
   "execution_count": 17,
   "metadata": {
    "id": "spVNaRJsBOOM"
   },
   "outputs": [
    {
     "name": "stdout",
     "output_type": "stream",
     "text": [
      "Linear Regression Results:\n",
      "R2 Score: 0.38957669088872904\n",
      "RMSE: 0.2968456018584102\n",
      "\n",
      "Random Forest Results:\n",
      "R2 Score: 0.8969493750245738\n",
      "RMSE: 0.1219664488744599\n"
     ]
    }
   ],
   "source": [
    "# Linear Regression\n",
    "print(\"Linear Regression Results:\")\n",
    "print(\"R2 Score:\", r2_score(y_test, y_pred_lr))\n",
    "print(\"RMSE:\", np.sqrt(mean_squared_error(y_test, y_pred_lr)))\n",
    "\n",
    "# Random Forest\n",
    "print(\"\\nRandom Forest Results:\")\n",
    "print(\"R2 Score:\", r2_score(y_test, y_pred_rf))\n",
    "print(\"RMSE:\", np.sqrt(mean_squared_error(y_test, y_pred_rf)))\n"
   ]
  },
  {
   "cell_type": "markdown",
   "metadata": {
    "id": "qHnnXYCeBQdQ"
   },
   "source": [
    "📈 8. Feature Importance (Optional – for Random Forest only)"
   ]
  },
  {
   "cell_type": "code",
   "execution_count": null,
   "metadata": {
    "id": "LsrYtxCwBUNL"
   },
   "outputs": [
    {
     "name": "stdout",
     "output_type": "stream",
     "text": [
      "                              Feature  Importance\n",
      "7                          num__votes    0.449097\n",
      "8             num__ave_review_ranking    0.280690\n",
      "6               num__ave_cost_for_two    0.059895\n",
      "0                       num__location    0.059069\n",
      "3                 num__listed_in_city    0.023674\n",
      "1                      num__rest_type    0.020404\n",
      "9                num__menu_item_count    0.017326\n",
      "4                   num__online_order    0.015843\n",
      "24  num__primary_cuisine_North Indian    0.010246\n",
      "25         num__primary_cuisine_Other    0.006485\n",
      "5                     num__book_table    0.006387\n",
      "17       num__primary_cuisine_Chinese    0.005724\n",
      "14       num__primary_cuisine_Biryani    0.005161\n",
      "28  num__primary_cuisine_South Indian    0.004932\n",
      "16          num__primary_cuisine_Cafe    0.004471\n",
      "2                 num__listed_in_type    0.003521\n",
      "26         num__primary_cuisine_Pizza    0.003415\n",
      "20     num__primary_cuisine_Fast Food    0.003343\n",
      "22       num__primary_cuisine_Italian    0.002911\n",
      "23        num__primary_cuisine_Kerala    0.002572\n"
     ]
    }
   ],
   "source": [
    "# After fitting the pipeline\n",
    "rf_pipeline.fit(X_train, y_train)\n",
    "\n",
    "# Get all transformed feature names directly from the pipeline\n",
    "feature_names = rf_pipeline.named_steps[\"preprocessor\"].get_feature_names_out()\n",
    "\n",
    "# Combine with regressor feature importances\n",
    "rf_model = rf_pipeline.named_steps[\"regressor\"]\n",
    "importances = rf_model.feature_importances_\n",
    "\n",
    "# Build importance DataFrame\n",
    "import pandas as pd\n",
    "feat_imp = pd.DataFrame({\n",
    "    \"Feature\": feature_names,\n",
    "    \"Importance\": importances\n",
    "}).sort_values(\"Importance\", ascending=False)\n",
    "\n",
    "print(feat_imp.head(20))\n",
    "\n"
   ]
  },
  {
   "cell_type": "code",
   "execution_count": 21,
   "metadata": {},
   "outputs": [
    {
     "data": {
      "image/png": "[encoded data removed]",
      "text/plain": [
       "<Figure size 1000x600 with 1 Axes>"
      ]
     },
     "metadata": {},
     "output_type": "display_data"
    }
   ],
   "source": [
    "# Fit the pipeline\n",
    "rf_pipeline.fit(X_train, y_train)\n",
    "\n",
    "# Get feature names after preprocessing\n",
    "feature_names = rf_pipeline.named_steps[\"preprocessor\"].get_feature_names_out()\n",
    "\n",
    "# Get feature importances from RF model\n",
    "rf_model = rf_pipeline.named_steps[\"regressor\"]\n",
    "importances = rf_model.feature_importances_\n",
    "\n",
    "# Put into a dataframe\n",
    "import pandas as pd\n",
    "feat_imp = pd.DataFrame({\n",
    "    \"Feature\": feature_names,\n",
    "    \"Importance\": importances\n",
    "}).sort_values(\"Importance\", ascending=False)\n",
    "\n",
    "# --- Plot Top 15 ---\n",
    "top_n = 15\n",
    "indices = feat_imp[\"Importance\"].argsort().iloc[-top_n:]\n",
    "\n",
    "import matplotlib.pyplot as plt\n",
    "\n",
    "plt.figure(figsize=(10, 6))\n",
    "plt.title(\"Top 15 Feature Importances\")\n",
    "plt.barh(feat_imp[\"Feature\"].iloc[indices], feat_imp[\"Importance\"].iloc[indices], align='center')\n",
    "plt.xlabel(\"Relative Importance\")\n",
    "plt.tight_layout()\n",
    "plt.show()\n"
   ]
  },
  {
   "cell_type": "markdown",
   "metadata": {
    "id": "jw1Lv8ACCDQc"
   },
   "source": [
    " Add GridSearchCV for Random Forest Hyperparameter tuning"
   ]
  },
  {
   "cell_type": "code",
   "execution_count": 22,
   "metadata": {
    "id": "IiMtnvIiCEJa"
   },
   "outputs": [
    {
     "name": "stdout",
     "output_type": "stream",
     "text": [
      "Fitting 3 folds for each of 24 candidates, totalling 72 fits\n",
      "Best parameters found: {'regressor__max_depth': None, 'regressor__min_samples_leaf': 1, 'regressor__min_samples_split': 2, 'regressor__n_estimators': 200}\n",
      "Tuned Random Forest R2 Score: 0.898140671511341\n",
      "Tuned Random Forest RMSE: 0.12125941497823754\n"
     ]
    }
   ],
   "source": [
    "from sklearn.model_selection import GridSearchCV\n",
    "\n",
    "# Define the parameter grid\n",
    "param_grid = {\n",
    "    'regressor__n_estimators': [100, 200],\n",
    "    'regressor__max_depth': [10, 20, None],\n",
    "    'regressor__min_samples_split': [2, 5],\n",
    "    'regressor__min_samples_leaf': [1, 2]\n",
    "}\n",
    "\n",
    "# Use the same pipeline with 'regressor' being a RandomForest\n",
    "grid_rf_pipeline = Pipeline(steps=[\n",
    "    (\"preprocessor\", preprocessor),\n",
    "    (\"regressor\", RandomForestRegressor(random_state=42))\n",
    "])\n",
    "\n",
    "# Setup GridSearch\n",
    "grid_search = GridSearchCV(grid_rf_pipeline, param_grid, cv=3, scoring='r2', n_jobs=-1, verbose=1)\n",
    "\n",
    "# Fit the model\n",
    "grid_search.fit(X_train, y_train)\n",
    "\n",
    "# Best Parameters\n",
    "print(\"Best parameters found:\", grid_search.best_params_)\n",
    "\n",
    "# Evaluate\n",
    "best_rf_model = grid_search.best_estimator_\n",
    "y_pred_best = best_rf_model.predict(X_test)\n",
    "\n",
    "print(\"Tuned Random Forest R2 Score:\", r2_score(y_test, y_pred_best))\n",
    "print(\"Tuned Random Forest RMSE:\", np.sqrt(mean_squared_error(y_test, y_pred_best)))\n"
   ]
  },
  {
   "cell_type": "code",
   "execution_count": 23,
   "metadata": {},
   "outputs": [],
   "source": [
    "import pickle\n",
    "\n",
    "# Save the tuned Random Forest pipeline\n",
    "with open(\"E:/FoodieBay DataSet/models/random_forest_model.pkl\", \"wb\") as f:\n",
    "    pickle.dump(best_rf_model, f)"
   ]
  }
 ],
 "metadata": {
  "colab": {
   "authorship_tag": "ABX9TyOQREx+wInybbcbLzsPJ567",
   "provenance": []
  },
  "kernelspec": {
   "display_name": "Python 3",
   "name": "python3"
  },
  "language_info": {
   "codemirror_mode": {
    "name": "ipython",
    "version": 3
   },
   "file_extension": ".py",
   "mimetype": "text/x-python",
   "name": "python",
   "nbconvert_exporter": "python",
   "pygments_lexer": "ipython3",
   "version": "3.11.0"
  }
 },
 "nbformat": 4,
 "nbformat_minor": 0
}
